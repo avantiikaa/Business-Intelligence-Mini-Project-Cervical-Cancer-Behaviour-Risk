# Cervical Cancer Behavior Risk Analysis

import pandas as pd
import numpy as np
from sklearn.impute import SimpleImputer
from sklearn.preprocessing import MinMaxScaler, KBinsDiscretizer
from sklearn.model_selection import train_test_split
from sklearn.ensemble import RandomForestClassifier
from sklearn.linear_model import LogisticRegression
from sklearn.metrics import accuracy_score, classification_report

# Load dataset
df = pd.read_csv("data/cervical_cancer.csv")

# Replace missing values
imputer = SimpleImputer(strategy="mean")
df_imputed = pd.DataFrame(imputer.fit_transform(df), columns=df.columns)

# (Optional) Remove columns if needed
# df_imputed = df_imputed.drop(columns=["column_to_remove"])

# Normalize
scaler = MinMaxScaler()
df_scaled = pd.DataFrame(scaler.fit_transform(df_imputed), columns=df.columns)

# Discretize (convert continuous to bins)
discretizer = KBinsDiscretizer(n_bins=3, encode="ordinal", strategy="uniform")
df_binned = pd.DataFrame(discretizer.fit_transform(df_scaled), columns=df.columns)

# Assume 'Biopsy' is the target variable
X = df_binned.drop(columns=["Biopsy"])
y = df_binned["Biopsy"]

X_train, X_test, y_train, y_test = train_test_split(X, y, test_size=0.2, random_state=42)

# Random Forest
rf = RandomForestClassifier()
rf.fit(X_train, y_train)
y_pred_rf = rf.predict(X_test)
print("Random Forest Accuracy:", accuracy_score(y_test, y_pred_rf))
print(classification_report(y_test, y_pred_rf))

# Feature importance
importances = pd.Series(rf.feature_importances_, index=X.columns).sort_values(ascending=False)
print("Feature Importances:\n", importances)

# Logistic Regression
lr = LogisticRegression(max_iter=1000)
lr.fit(X_train, y_train)
y_pred_lr = lr.predict(X_test)
print("Logistic Regression Accuracy:", accuracy_score(y_test, y_pred_lr))
